{
 "cells": [
  {
   "cell_type": "markdown",
   "metadata": {},
   "source": [
    "Latihan nomer 4"
   ]
  },
  {
   "cell_type": "code",
   "execution_count": 3,
   "metadata": {},
   "outputs": [],
   "source": [
    "from datetime import date, datetime, timedelta\n",
    "import mysql.connector\n",
    "\n",
    "cnx = mysql.connector.connect(user='root', database='perbankan')\n",
    "cursor = cnx.cursor()\n",
    "tanggal = datetime.now().date()\n",
    "tambah_transaksi=(\"INSERT INTO transaksi(id_nasabahFK,no_rekeningFK,jenis_transaksi,tanggal,jumlah) VALUES(%s,%s,%s,%s,%s)\")\n",
    "data_transaksi = ('9','110','kredit',tanggal,'50000')\n",
    "cursor.execute(tambah_transaksi,data_transaksi)\n",
    "\n",
    "cnx.commit()\n",
    "cursor.close()\n",
    "cnx.close()"
   ]
  },
  {
   "cell_type": "markdown",
   "metadata": {},
   "source": [
    "latihan nomor 5"
   ]
  },
  {
   "cell_type": "code",
   "execution_count": 8,
   "metadata": {},
   "outputs": [
    {
     "name": "stdout",
     "output_type": "stream",
     "text": [
      "nasabah dengan ID 6 melakukan transaksi debit pada 29 May 2020 sejumlah 758000\n",
      "nasabah dengan ID 9 melakukan transaksi kredit pada 29 May 2020 sejumlah 50000\n"
     ]
    }
   ],
   "source": [
    "from datetime import date, datetime, timedelta\n",
    "import mysql.connector\n",
    "\n",
    "cnx = mysql.connector.connect(user='root', database='perbankan')\n",
    "cursor = cnx.cursor()\n",
    "query = (\"SELECT id_nasabahFK,jenis_transaksi,tanggal,jumlah FROM transaksi WHERE YEAR(tanggal)=2020\")\n",
    "cursor.execute(query)\n",
    "for (id_nasabahFK,jenis_transaksi,tanggal,jumlah)in cursor:\n",
    "    print(\"nasabah dengan ID {} melakukan transaksi {} pada {:%d %b %Y} sejumlah {}\"\n",
    "          .format(id_nasabahFK,jenis_transaksi,tanggal,jumlah))     \n",
    "cursor.close()\n",
    "cnx.close()"
   ]
  },
  {
   "cell_type": "code",
   "execution_count": null,
   "metadata": {},
   "outputs": [],
   "source": [
    "tugas nomor 1 insert"
   ]
  },
  {
   "cell_type": "code",
   "execution_count": 1,
   "metadata": {},
   "outputs": [],
   "source": [
    "from datetime import date, datetime, timedelta\n",
    "import mysql.connector\n",
    "\n",
    "cnx = mysql.connector.connect(user='root', database='perbankan')\n",
    "cursor = cnx.cursor()\n",
    "tanggal = datetime.now().date()\n",
    "tambah_transaksi=(\"INSERT INTO transaksi(id_nasabahFK,no_rekeningFK,jenis_transaksi,tanggal,jumlah) VALUES(%s,%s,%s,%s,%s)\")\n",
    "data_transaksi = ('6','111','debit',tanggal,'758000')\n",
    "cursor.execute(tambah_transaksi,data_transaksi)\n",
    "\n",
    "cnx.commit()\n",
    "cursor.close()\n",
    "cnx.close()"
   ]
  },
  {
   "cell_type": "markdown",
   "metadata": {},
   "source": [
    "tugas nomor 1 delete"
   ]
  },
  {
   "cell_type": "code",
   "execution_count": 9,
   "metadata": {},
   "outputs": [
    {
     "name": "stdout",
     "output_type": "stream",
     "text": [
      "Data berhasil dihapus\n"
     ]
    }
   ],
   "source": [
    "from datetime import date, datetime, timedelta\n",
    "import mysql.connector\n",
    "\n",
    "cnx = mysql.connector.connect(user='root', database='perbankan')\n",
    "cursor = cnx.cursor()\n",
    "\n",
    "delete_transaksi=(\"DELETE FROM transaksi WHERE no_transaksi=35\")\n",
    "cursor.execute(delete_transaksi)\n",
    "\n",
    "cnx.commit()\n",
    "\n",
    "print(\"Data berhasil dihapus\")"
   ]
  },
  {
   "cell_type": "markdown",
   "metadata": {},
   "source": [
    "tugas nomor 1 update"
   ]
  },
  {
   "cell_type": "code",
   "execution_count": 10,
   "metadata": {},
   "outputs": [
    {
     "name": "stdout",
     "output_type": "stream",
     "text": [
      "Data berhasil di ubah\n"
     ]
    }
   ],
   "source": [
    "from datetime import date, datetime, timedelta\n",
    "import mysql.connector\n",
    "\n",
    "cnx = mysql.connector.connect(user='root', database='perbankan')\n",
    "cursor = cnx.cursor()\n",
    "\n",
    "delete_transaksi=(\"UPDATE transaksi SET jenis_transaksi=%s WHERE no_transaksi=%s\")\n",
    "value=(\"debit\",\"34\")\n",
    "cursor.execute(delete_transaksi,value)\n",
    "\n",
    "cnx.commit()\n",
    "\n",
    "print(\"Data berhasil di ubah\")"
   ]
  },
  {
   "cell_type": "markdown",
   "metadata": {},
   "source": [
    "tugas nomor 2"
   ]
  },
  {
   "cell_type": "code",
   "execution_count": 12,
   "metadata": {},
   "outputs": [
    {
     "name": "stdout",
     "output_type": "stream",
     "text": [
      "(1, 'Sutopo', 'Jl. Jendral Sudirman 12')\n",
      "(2, 'Maryati', 'Jl. MT Haryono 31')\n",
      "(3, 'Suparman', 'Jl. Hasanudin 81')\n",
      "(4, 'Kartika Padmasari', 'Jl. Manggis 15')\n",
      "(5, 'Budi Eko Prayogo', 'Jl. Kantil 30')\n",
      "(6, 'Satria Eka Jaya', 'Jl. Slamet Riyadi 45')\n",
      "(7, 'Trianandya', 'Jl. Sutoyo 5')\n",
      "(8, 'Sari Murti', 'Jl. Pangandaran 11')\n",
      "(9, 'Canka Lokananta', 'Jl. Tidar 86')\n",
      "(10, 'Budi Martono', 'Jl. Merak 22')\n",
      "(11, 'Danindya', 'Jl. Aki Balak 22')\n",
      "(12, 'Puput', 'Jl. AMD 10')\n",
      "(13, 'Muliana', 'Jl. Jend. Sudirman 97')\n",
      "(14, 'Putri', 'Jl. Diponegoro 19')\n",
      "(15, 'Bening', 'Jl. Agatis 10')\n",
      "(16, 'Khatulistyawara', 'Jl. Ir. Soekarno 12')\n",
      "(17, 'Pandan Wangi', 'Jl. Imam Bonjol 20')\n",
      "(18, 'Andara', 'Jl. Pertama 26')\n",
      "(19, 'Rangga', 'Jl. Kedua 80')\n",
      "(20, 'Cinta', 'Jl. Ketiga 24')\n",
      "(100, 'resky', 'solo')\n"
     ]
    }
   ],
   "source": [
    "import mysql.connector\n",
    "\n",
    "cnx = mysql.connector.connect(user='root', database='perbankan')\n",
    "cursor = cnx.cursor()\n",
    "cursor.execute(\"\"\"SELECT * FROM nasabah\"\"\")\n",
    "nasabah = cursor.fetchall()\n",
    "for x in nasabah:\n",
    "  print(x)\n",
    "\n",
    "cursor.close()\n",
    "cnx.close()"
   ]
  },
  {
   "cell_type": "markdown",
   "metadata": {},
   "source": [
    "tugas nonor 3"
   ]
  },
  {
   "cell_type": "code",
   "execution_count": 11,
   "metadata": {},
   "outputs": [
    {
     "name": "stdout",
     "output_type": "stream",
     "text": [
      "(1, 'Sutopo', 'Jl. Jendral Sudirman 12')\n",
      "(2, 'Maryati', 'Jl. MT Haryono 31')\n",
      "(3, 'Suparman', 'Jl. Hasanudin 81')\n",
      "(4, 'Kartika Padmasari', 'Jl. Manggis 15')\n",
      "(5, 'Budi Eko Prayogo', 'Jl. Kantil 30')\n",
      "(7, 'Trianandya', 'Jl. Sutoyo 5')\n",
      "(9, 'Canka Lokananta', 'Jl. Tidar 86')\n",
      "(10, 'Budi Martono', 'Jl. Merak 22')\n"
     ]
    }
   ],
   "source": [
    "import mysql.connector\n",
    "\n",
    "cnx = mysql.connector.connect(user='root', database='perbankan')\n",
    "cursor = cnx.cursor()\n",
    "cursor.execute(\"\"\"SELECT * FROM nasabah\n",
    "               WHERE nasabah.id_nasabah IN(select transaksi.id_nasabahFK\n",
    "                FROM transaksi where tanggal between '2009-11-10' AND '2009-12-06')\"\"\")\n",
    "nasabah = cursor.fetchall()\n",
    "for x in nasabah:\n",
    "  print(x)\n",
    "\n",
    "cursor.close()\n",
    "cnx.close()"
   ]
  }
 ],
 "metadata": {
  "kernelspec": {
   "display_name": "Python 3",
   "language": "python",
   "name": "python3"
  },
  "language_info": {
   "codemirror_mode": {
    "name": "ipython",
    "version": 3
   },
   "file_extension": ".py",
   "mimetype": "text/x-python",
   "name": "python",
   "nbconvert_exporter": "python",
   "pygments_lexer": "ipython3",
   "version": "3.7.4"
  }
 },
 "nbformat": 4,
 "nbformat_minor": 2
}
